{
 "cells": [
  {
   "cell_type": "markdown",
   "metadata": {},
   "source": [
    "### NAME                 :    FRASTLIN J\n",
    "### REG. NO.            :    205229135\n",
    "### ASSIGNMENT    :   LAB_6"
   ]
  },
  {
   "cell_type": "markdown",
   "metadata": {},
   "source": [
    "## Lab6. Python File Processing"
   ]
  },
  {
   "cell_type": "markdown",
   "metadata": {},
   "source": [
    "### Question1:Write a program for Password Management System\n",
    "- File creation: Ask user to enter N user names and their passwords. Store usernames andpasswords into a file named “loginfile.txt”. Store each user and password in one line.\n",
    "- File Processing: Write a program that opens your “loginfile.txt” file and reads usernames and passwords from it. Store user names in one list and passwords in another lists.\n",
    "- Querying: ask user to enter user name and password for verification. If they match the values stored in the lists, print a message “Login Successful”. Otherwise print a message “Login Failed, try again”"
   ]
  },
  {
   "cell_type": "code",
   "execution_count": 9,
   "metadata": {},
   "outputs": [],
   "source": [
    "def register():\n",
    "    username = input(\"Please input the first 2 letters of your first name and your birth year \")\n",
    "    password = input(\"Please input your desired password \")\n",
    "    file = open(\"loginfile.txt\",\"a\")\n",
    "    file.write(username)\n",
    "    file.write(\" \")\n",
    "    file.write(password)\n",
    "    file.write(\"\\n\")\n",
    "    file.close()\n",
    "    if login():\n",
    "        print(\"You are now logged in...\")\n",
    "    else:\n",
    "        print(\"You aren't logged in!\")\n",
    "\n",
    "def login():\n",
    "    username = input(\"Please enter your username: \")\n",
    "    password = input(\"Please enter your password: \")  \n",
    "    for line in open(\"loginfile.txt\",\"r\").readlines(): # Read the lines\n",
    "        login_info = line.split() # Split on the space, and store the results in a list of two strings\n",
    "        if username == login_info[0] and password == login_info[1]:\n",
    "            print(\"Correct credentials!\")\n",
    "            return True\n",
    "    print(\"Incorrect credentials.\")\n",
    "    return False"
   ]
  },
  {
   "cell_type": "code",
   "execution_count": 10,
   "metadata": {
    "scrolled": true
   },
   "outputs": [
    {
     "name": "stdout",
     "output_type": "stream",
     "text": [
      "Please input the first 2 letters of your first name and your birth year Fr1999\n",
      "Please input your desired password Fras1911\n",
      "Please enter your username: Fr1999\n",
      "Please enter your password: Fras1911\n",
      "Correct credentials!\n",
      "You are now logged in...\n"
     ]
    }
   ],
   "source": [
    "register()"
   ]
  },
  {
   "cell_type": "code",
   "execution_count": 11,
   "metadata": {
    "scrolled": true
   },
   "outputs": [
    {
     "name": "stdout",
     "output_type": "stream",
     "text": [
      "Please enter your username: Fr1999\n",
      "Please enter your password: Fras1911\n",
      "Correct credentials!\n"
     ]
    },
    {
     "data": {
      "text/plain": [
       "True"
      ]
     },
     "execution_count": 11,
     "metadata": {},
     "output_type": "execute_result"
    }
   ],
   "source": [
    "login()"
   ]
  },
  {
   "cell_type": "markdown",
   "metadata": {},
   "source": [
    "### Question2: Write a program for Student Performance Analysis\n",
    "- Create a text file, 'marks.txt', with N marks as floating point numbers. Open the file, read marks from it and compute and print the highest mark.\n",
    "- If the user runs the program more than once you should not overwrite the previous text file – simply append the marks to the end of the file.\n",
    "- Modify the above program so that it also prints Top-3 highest marks (Note: you may need to use list concept)\n",
    "- Modify the above program so that it also prints the Lowest-3 marks."
   ]
  },
  {
   "cell_type": "code",
   "execution_count": 4,
   "metadata": {},
   "outputs": [
    {
     "name": "stdout",
     "output_type": "stream",
     "text": [
      "100.0\n",
      "[100.0, 100.0, 100.0]\n",
      "[95.0, 95.0, 95.0]\n"
     ]
    }
   ],
   "source": [
    "marks= [99.0,100.0,95.0,96.0,97.0]\n",
    "with open('marks1.txt', 'a') as file:\n",
    "    for mark in marks:\n",
    "        file.write(\"%.1f\\n\" % mark)\n",
    "number_list=[]\n",
    "with open('marks1.txt', 'r') as fp:\n",
    "    number_list = [float(item) for item in fp.readlines()]\n",
    "print(max(number_list))\n",
    "\n",
    "def Nmaxelements(list1, N): \n",
    "    final_list = [] \n",
    "    for i in range(0, N):  \n",
    "        max1 = 0  \n",
    "        for j in range(len(list1)):      \n",
    "            if list1[j] > max1: \n",
    "                max1 = list1[j];        \n",
    "        list1.remove(max1); \n",
    "        final_list.append(max1)     \n",
    "    print(final_list) \n",
    "Nmaxelements(number_list,3)\n",
    "\n",
    "def Nminelements(list1, N): \n",
    "    final_list =[]; \n",
    "    for i in range(0, N):     \n",
    "        min1 = 9999999;  \n",
    "        for j in range(len(list1)):       \n",
    "            if list1[j]<min1:\n",
    "                min1 = list1[j];\n",
    "        list1.remove(min1);\n",
    "        final_list.append(min1) \n",
    "    print(final_list) \n",
    "Nminelements(number_list,3)"
   ]
  },
  {
   "cell_type": "markdown",
   "metadata": {},
   "source": [
    "### Question:3 Write a program for Stock Price Analysis\n",
    "- File Creation: Continually prompt a user for stock name, followed by price values for 5\n",
    "days. Each row indicates stock name and daily prices of one stock. Store these values in\n",
    "a text file called “stock-prices.txt”. Open the file in Append Mode. Prompt message “Do\n",
    "you want to continue? “ and stop reading values accordingly. Then, you can close your\n",
    "file.\n",
    "- File Processing: Now, open your file for processing. Print stock name, minimum price,\n",
    "maximum price and average price values.\n",
    "- You can also print which day stock price was lowest in the week and which day stock price\n",
    "was highest. So, modify your print statement to print stock name, minimum price & day\n",
    "of minimum price, maximum price & day of maximum price and average price values.\n",
    "(Hint: Use enumerate to get index values)"
   ]
  },
  {
   "cell_type": "code",
   "execution_count": 12,
   "metadata": {},
   "outputs": [
    {
     "name": "stdout",
     "output_type": "stream",
     "text": [
      "Enter the name:  orange\n",
      "30\n",
      "40\n",
      "90\n",
      "55\n",
      "75\n",
      "want to continue  :  m\n",
      "Enter the name:  apple\n",
      "40\n",
      "55\n",
      "30\n",
      "60\n",
      "84\n",
      "want to continue  :  n\n"
     ]
    }
   ],
   "source": [
    "while True:\n",
    "    st_name=str(input(\"Enter the name:  \"))\n",
    "    file=open(\"stock_prices.txt\",\"a\")\n",
    "    file.write(st_name)\n",
    "    file.write(\"  \")\n",
    "    for i in range(5):\n",
    "        p=input()\n",
    "        file.write(p)\n",
    "        file.write(\"  \") \n",
    "    file.write(\"\\n\")    \n",
    "    con = str(input(\"want to continue  :  \"))\n",
    "    if con =='n':\n",
    "        break   \n",
    "file.close()"
   ]
  },
  {
   "cell_type": "code",
   "execution_count": 14,
   "metadata": {},
   "outputs": [
    {
     "name": "stdout",
     "output_type": "stream",
     "text": [
      "ROG\n",
      "30\n",
      "56\n",
      "44.2\n",
      "\n",
      "\n",
      "Dell\n",
      "33\n",
      "86\n",
      "58.8\n",
      "\n",
      "\n",
      "orange\n",
      "30\n",
      "90\n",
      "58.0\n",
      "\n",
      "\n",
      "apple\n",
      "30\n",
      "84\n",
      "53.8\n",
      "\n",
      "\n"
     ]
    }
   ],
   "source": [
    "for st in open(\"stock_prices.txt\",\"r\").readlines():\n",
    "    p_min=[]\n",
    "    calc=st.split()\n",
    "    print(calc[0])  \n",
    "    for i in range(1,6):\n",
    "        p_min.append(int(calc[i]))\n",
    "    print(min(p_min))    \n",
    "    print(max(p_min))\n",
    "    av=sum(p_min)\n",
    "    avg=av/5\n",
    "    print(avg)\n",
    "    print(\"\\n\")"
   ]
  },
  {
   "cell_type": "code",
   "execution_count": 15,
   "metadata": {},
   "outputs": [
    {
     "name": "stdout",
     "output_type": "stream",
     "text": [
      "-------------------------\n",
      "ROG\n",
      "min price  30  on day  5\n",
      "max price  56  on day  4\n",
      "-------------------------\n",
      "Dell\n",
      "min price  33  on day  5\n",
      "max price  86  on day  2\n",
      "-------------------------\n",
      "orange\n",
      "min price  30  on day  1\n",
      "max price  90  on day  3\n",
      "-------------------------\n",
      "apple\n",
      "min price  30  on day  3\n",
      "max price  84  on day  5\n"
     ]
    }
   ],
   "source": [
    "for st in open(\"stock_prices.txt\",\"r\").readlines():\n",
    "    p_min=[]\n",
    "    print(\"-------------------------\")\n",
    "    calc=st.split()\n",
    "    print(calc[0])\n",
    "    for i in range(1,6):\n",
    "        p_min.append(int(calc[i]))\n",
    "    mip=min(p_min)    \n",
    "    mxp=max(p_min)\n",
    "    im=p_min.index(mip)\n",
    "    ix=p_min.index(mxp)\n",
    "    print(\"min price \",mip,\" on day \",im+1)\n",
    "    print(\"max price \",mxp,\" on day \",ix+1)"
   ]
  },
  {
   "cell_type": "markdown",
   "metadata": {},
   "source": [
    "### Question:4 Write a program for File Explorer\n",
    "Display the contents of file\n",
    "    1.Count the number of lines in a text file. (Use splitlines())\n",
    "    2.Count the number of unique words in a file.\n",
    "    3.Find frequency of words in a given file. (Hint: Use Counter object)\n",
    "    4.Show a random line in a file. (Use Random object) "
   ]
  },
  {
   "cell_type": "code",
   "execution_count": 22,
   "metadata": {},
   "outputs": [
    {
     "name": "stdout",
     "output_type": "stream",
     "text": [
      "1.Display the contents of File:\n",
      "-------\n"
     ]
    },
    {
     "ename": "FileNotFoundError",
     "evalue": "[Errno 2] No such file or directory: 'samplemv.txt'",
     "output_type": "error",
     "traceback": [
      "\u001b[1;31m---------------------------------------------------------------------------\u001b[0m",
      "\u001b[1;31mFileNotFoundError\u001b[0m                         Traceback (most recent call last)",
      "\u001b[1;32m<ipython-input-22-e98397d13c80>\u001b[0m in \u001b[0;36m<module>\u001b[1;34m\u001b[0m\n\u001b[0;32m      1\u001b[0m \u001b[0mprint\u001b[0m\u001b[1;33m(\u001b[0m\u001b[1;34m\"1.Display the contents of File:\"\u001b[0m\u001b[1;33m)\u001b[0m\u001b[1;33m\u001b[0m\u001b[1;33m\u001b[0m\u001b[0m\n\u001b[0;32m      2\u001b[0m \u001b[0mprint\u001b[0m\u001b[1;33m(\u001b[0m\u001b[1;34m\"-------\"\u001b[0m\u001b[1;33m)\u001b[0m\u001b[1;33m\u001b[0m\u001b[1;33m\u001b[0m\u001b[0m\n\u001b[1;32m----> 3\u001b[1;33m \u001b[0mf\u001b[0m \u001b[1;33m=\u001b[0m \u001b[0mopen\u001b[0m\u001b[1;33m(\u001b[0m\u001b[1;34m\"samplemv.txt\"\u001b[0m\u001b[1;33m,\u001b[0m\u001b[1;34m'r'\u001b[0m\u001b[1;33m)\u001b[0m\u001b[1;33m\u001b[0m\u001b[1;33m\u001b[0m\u001b[0m\n\u001b[0m\u001b[0;32m      4\u001b[0m \u001b[0mdisplay\u001b[0m \u001b[1;33m=\u001b[0m \u001b[0mf\u001b[0m\u001b[1;33m.\u001b[0m\u001b[0mread\u001b[0m\u001b[1;33m(\u001b[0m\u001b[1;33m)\u001b[0m\u001b[1;33m\u001b[0m\u001b[1;33m\u001b[0m\u001b[0m\n\u001b[0;32m      5\u001b[0m \u001b[0mprint\u001b[0m\u001b[1;33m(\u001b[0m\u001b[0mdisplay\u001b[0m\u001b[1;33m)\u001b[0m\u001b[1;33m\u001b[0m\u001b[1;33m\u001b[0m\u001b[0m\n",
      "\u001b[1;31mFileNotFoundError\u001b[0m: [Errno 2] No such file or directory: 'samplemv.txt'"
     ]
    }
   ],
   "source": [
    "print(\"1.Display the contents of File:\")\n",
    "print(\"-------\")\n",
    "f = open(\"samplemv.txt\",'r')\n",
    "display = f.read()\n",
    "print(display)\n",
    "f.close()\n",
    "print(\"\")\n",
    "\n",
    "print(\"2.Count the number of lines in a text file:\")\n",
    "print(\"-------\")\n",
    "file = open(\"samplemv.txt\",\"r\") \n",
    "Counter = 0\n",
    "Content = file.read() \n",
    "CoList = Content.split(\"\\n\") \n",
    "\n",
    "for i in CoList:\n",
    "    if i:\n",
    "        Counter += 1\n",
    "print(\"Number of lines in the text file:\",Counter)\n",
    "print(\"\\n\")\n",
    "\n",
    "\n",
    "print(\"3.Count the number of unique words in a file:\")\n",
    "print(\"-------\")\n",
    "num_words = 0\n",
    "c = open(\"sample.txt\", 'r')\n",
    "for line in c:\n",
    "    words = line.split()\n",
    "    num_words += len(words)\n",
    "print(\"Number of words:\",num_words)\n",
    "c.close()\n",
    "print(\"\\n\")\n",
    "\n",
    "\n",
    "print(\"4.Find Find frequency of words in a given file:\")\n",
    "print(\"--------\")\n",
    "fname = input('Enter the file name: ')\n",
    "print(\"----------------------------------------------------------------------------------------------------\")\n",
    "try:\n",
    "    fhand = open(fname)\n",
    "    counts = dict()\n",
    "    for line in fhand:\n",
    "        words = line.split()\n",
    "        for word in words:\n",
    "            if word in counts:\n",
    "                counts[word] += 1\n",
    "            else:\n",
    "                counts[word] = 1\n",
    "    print(counts)\n",
    "except:\n",
    "    print('File cannot be opened:', fname)\n",
    "print(\"\\n\")\n",
    "    \n",
    "print(\"5.Show a random line in a file:\")\n",
    "print(\"--------\")\n",
    "import random\n",
    "def random_line(fname):\n",
    "    lines = open(fname).read().splitlines()\n",
    "    return random.choice(lines)\n",
    "print(random_line('sample.txt'))"
   ]
  },
  {
   "cell_type": "markdown",
   "metadata": {},
   "source": [
    "### Question5: Develop an application in Python to read through the email data (“mbox-short.txt”) and when you find line that starts with “From”, you will split the line into words using the split function. We are interested in who sent the message, which is the second word on the From line: From stephen.marquard@uct.ac.za Sat Jan 5 09:14:16 2008. You will parse the From line and print out the second word for each From line, then you will also count the number of From (not From:) lines and print out a count at the end."
   ]
  },
  {
   "cell_type": "code",
   "execution_count": 118,
   "metadata": {},
   "outputs": [
    {
     "name": "stdout",
     "output_type": "stream",
     "text": [
      "From stephen.marquard@uct.ac.za Sat Jan  5 09:14:16 2008\n",
      "From louis@media.berkeley.edu Fri Jan  4 18:10:48 2008\n",
      "From zqian@umich.edu Fri Jan  4 16:10:39 2008\n",
      "From rjlowe@iupui.edu Fri Jan  4 15:46:24 2008\n",
      "From zqian@umich.edu Fri Jan  4 15:03:18 2008\n",
      "From rjlowe@iupui.edu Fri Jan  4 14:50:18 2008\n",
      "From cwen@iupui.edu Fri Jan  4 11:37:30 2008\n",
      "From cwen@iupui.edu Fri Jan  4 11:35:08 2008\n",
      "From gsilver@umich.edu Fri Jan  4 11:12:37 2008\n",
      "From gsilver@umich.edu Fri Jan  4 11:11:52 2008\n",
      "From zqian@umich.edu Fri Jan  4 11:11:03 2008\n",
      "From gsilver@umich.edu Fri Jan  4 11:10:22 2008\n",
      "From wagnermr@iupui.edu Fri Jan  4 10:38:42 2008\n",
      "From zqian@umich.edu Fri Jan  4 10:17:43 2008\n",
      "From antranig@caret.cam.ac.uk Fri Jan  4 10:04:14 2008\n",
      "From gopal.ramasammycook@gmail.com Fri Jan  4 09:05:31 2008\n",
      "From david.horwitz@uct.ac.za Fri Jan  4 07:02:32 2008\n",
      "From david.horwitz@uct.ac.za Fri Jan  4 06:08:27 2008\n",
      "From david.horwitz@uct.ac.za Fri Jan  4 04:49:08 2008\n",
      "From david.horwitz@uct.ac.za Fri Jan  4 04:33:44 2008\n",
      "From stephen.marquard@uct.ac.za Fri Jan  4 04:07:34 2008\n",
      "From louis@media.berkeley.edu Thu Jan  3 19:51:21 2008\n",
      "From louis@media.berkeley.edu Thu Jan  3 17:18:23 2008\n",
      "From ray@media.berkeley.edu Thu Jan  3 17:07:00 2008\n",
      "From cwen@iupui.edu Thu Jan  3 16:34:40 2008\n",
      "From cwen@iupui.edu Thu Jan  3 16:29:07 2008\n",
      "From cwen@iupui.edu Thu Jan  3 16:23:48 2008\n"
     ]
    }
   ],
   "source": [
    "fhand = open('mbox-short.txt')\n",
    "for line in fhand:\n",
    "    line = line.rstrip()\n",
    "    if line.startswith('From '):\n",
    "        print(line)"
   ]
  },
  {
   "cell_type": "code",
   "execution_count": 119,
   "metadata": {
    "scrolled": true
   },
   "outputs": [
    {
     "name": "stdout",
     "output_type": "stream",
     "text": [
      "stephen.marquard@uct.ac.za\n",
      "louis@media.berkeley.edu\n",
      "zqian@umich.edu\n",
      "rjlowe@iupui.edu\n",
      "zqian@umich.edu\n",
      "rjlowe@iupui.edu\n",
      "cwen@iupui.edu\n",
      "cwen@iupui.edu\n",
      "gsilver@umich.edu\n",
      "gsilver@umich.edu\n",
      "zqian@umich.edu\n",
      "gsilver@umich.edu\n",
      "wagnermr@iupui.edu\n",
      "zqian@umich.edu\n",
      "antranig@caret.cam.ac.uk\n",
      "gopal.ramasammycook@gmail.com\n",
      "david.horwitz@uct.ac.za\n",
      "david.horwitz@uct.ac.za\n",
      "david.horwitz@uct.ac.za\n",
      "david.horwitz@uct.ac.za\n",
      "stephen.marquard@uct.ac.za\n",
      "louis@media.berkeley.edu\n",
      "louis@media.berkeley.edu\n",
      "ray@media.berkeley.edu\n",
      "cwen@iupui.edu\n",
      "cwen@iupui.edu\n",
      "cwen@iupui.edu\n",
      "There were 27 lines in the file with From as the first word\n"
     ]
    }
   ],
   "source": [
    "fhand = open(\"mbox-short.txt\")\n",
    "count = 0\n",
    "for line in fhand:\n",
    "    line = line.rstrip()\n",
    "    if line == \"\": continue\n",
    "    words = line.split()\n",
    "    if words[0] !=\"From\": continue\n",
    "    print(words[1])\n",
    "    count = count+1\n",
    "print (\"There were\", count, \"lines in the file with From as the first word\")"
   ]
  },
  {
   "cell_type": "markdown",
   "metadata": {},
   "source": [
    "#### Question6. Write a program to read and write CSV files\n",
    "#### 1).File Creation: Create MS Excel file (“student_marks.csv”) with 5 rows of student name, mark1, mark2, mark3, mark4. Use comma to separate each value in a row.\n",
    "#### 2).File Display: Now, open your CSV file and display the file contents row by row (More information at: https://docs.python.org/3/library/csv.html).\n",
    "#### 3).File Writing: Now, open (“student_marks.csv”) for writing. Ask user to enter name followed by 4 marks for one new student and write them onto the file."
   ]
  },
  {
   "cell_type": "code",
   "execution_count": 15,
   "metadata": {},
   "outputs": [],
   "source": [
    "from csv import writer\n",
    "def append_list_as_row(file_name, list_of_elem):\n",
    "    \n",
    "    with open('student_marks.csv', 'a+', newline='') as write_obj:\n",
    "        \n",
    "        csv_writer = writer(write_obj)\n",
    "        \n",
    "        csv_writer.writerow(list_of_elem)\n",
    "\n",
    "row_contents = ['Suresh',68,78,89,87,90]\n",
    "row_contents1 = ['ganesh',68,78,89,87,90]\n",
    "row_contents2 = ['Harish',68,78,89,87,90]\n",
    "row_contents3 = ['Rajesh',68,78,89,87,90]\n",
    "append_list_as_row('student_marks.csv', row_contents)\n",
    "append_list_as_row('student_marks.csv', row_contents1)\n",
    "append_list_as_row('student_marks.csv', row_contents2)\n",
    "append_list_as_row('student_marks.csv', row_contents3)"
   ]
  },
  {
   "cell_type": "code",
   "execution_count": 16,
   "metadata": {},
   "outputs": [
    {
     "name": "stdout",
     "output_type": "stream",
     "text": [
      "student, name,mark1,mark2,mark3,mark4,mark5\n",
      "Johnson,78,56,72,95,77\n",
      "Tom,89,69,74,90,88\n",
      "Josephine,90,89,93,78,70\n",
      "Jerry,89,78,70,88,90\n",
      "David,90,98,87,89,86\n",
      "Sam,68,78,89,87,90\n",
      "Ram,68,78,89,87,90\n",
      "Ramkumar,68,78,89,87,90\n",
      "Suresh,68,78,89,87,90\n",
      "ganesh,68,78,89,87,90\n",
      "Harish,68,78,89,87,90\n",
      "Rajesh,68,78,89,87,90\n"
     ]
    }
   ],
   "source": [
    "import csv\n",
    "with open('student_marks.csv', newline ='') as csvfile:\n",
    "    reader = csv.reader(csvfile, delimiter =' ', quotechar ='|')\n",
    "    for row in reader:\n",
    "        print(', '.join(row))"
   ]
  }
 ],
 "metadata": {
  "kernelspec": {
   "display_name": "Python 3",
   "language": "python",
   "name": "python3"
  },
  "language_info": {
   "codemirror_mode": {
    "name": "ipython",
    "version": 3
   },
   "file_extension": ".py",
   "mimetype": "text/x-python",
   "name": "python",
   "nbconvert_exporter": "python",
   "pygments_lexer": "ipython3",
   "version": "3.8.3"
  }
 },
 "nbformat": 4,
 "nbformat_minor": 4
}

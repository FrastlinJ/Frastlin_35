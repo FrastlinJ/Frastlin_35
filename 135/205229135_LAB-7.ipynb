{
 "cells": [
  {
   "cell_type": "markdown",
   "metadata": {},
   "source": [
    "### Name : FRASTLIN J\n",
    "### Reg. No. : 205229135\n",
    "### Assignment : LAB_7"
   ]
  },
  {
   "cell_type": "markdown",
   "metadata": {},
   "source": [
    "## Lab7. Dictionaries in Python"
   ]
  },
  {
   "cell_type": "markdown",
   "metadata": {},
   "source": [
    "#### Question1. Write a program for Fruit Inventory Management.\n",
    "1. Create a dictionary fruits with fruit name as key and quantity available as values. There are 20 apples, 50 bananas, 100 oranges. Then, print outputs for the following queries.\n",
    "2. Show the entire dictionary fruits (Print output as apples -> 20, bananas -> 50, etc)\n",
    "3. How many bananas are there?\n",
    "4. How many items in the dictionary?\n",
    "5. Does graphs available in the dictionary?\n",
    "6. Does pears exists in the dictionary?. If so, return its quantity, otherwise, add 10 pears to dictionary.\n",
    "7. Show all fruit names in ascending order (Iterate using for loop)\n",
    "8. Show all fruits in descending order of quantities\n",
    "9. Remove pears from the dictionary.\n",
    "10. Develop a function show() that displays fruit name and quantity (Use .format() for pretty printing)\n",
    "11. Develop a function add_fruit(name, quantity) that receives fruit name and quantity as input and increases the quantity of the fruit. Then, display the current inventory by calling show().\n",
    "12. Now, add 40 apples to inventory by calling add_fruit(name, quantity)\n",
    "13. Now, add 100 bananas to inventory, by calling add_fruit(name, quantity)\n",
    "14. Now, show the current inventory, by calling show()\n",
    "15. Write the inventory fruits onto a file. (Use Pickle for file writing and reading)\n",
    "16. Now, open Pickle file and display the inventory."
   ]
  },
  {
   "cell_type": "markdown",
   "metadata": {},
   "source": [
    "#### 1. Create a dictionary fruits with fruit name as key and quantity available as values. There are 20 apples, 50 bananas, 100 oranges. Then, print outputs for the following queries."
   ]
  },
  {
   "cell_type": "code",
   "execution_count": 1,
   "metadata": {},
   "outputs": [],
   "source": [
    "fruits={\"apples\":20,\"bananas\":50,\"oranges\":100}"
   ]
  },
  {
   "cell_type": "markdown",
   "metadata": {},
   "source": [
    "#### 2. Show the entire dictionary fruits "
   ]
  },
  {
   "cell_type": "code",
   "execution_count": 2,
   "metadata": {},
   "outputs": [
    {
     "name": "stdout",
     "output_type": "stream",
     "text": [
      "{'apples': 20, 'bananas': 50, 'oranges': 100}\n"
     ]
    }
   ],
   "source": [
    "print(fruits)"
   ]
  },
  {
   "cell_type": "markdown",
   "metadata": {},
   "source": [
    "#### 3. How many bananas are there?"
   ]
  },
  {
   "cell_type": "code",
   "execution_count": 3,
   "metadata": {},
   "outputs": [
    {
     "name": "stdout",
     "output_type": "stream",
     "text": [
      "50\n"
     ]
    }
   ],
   "source": [
    "print(fruits.get('bananas'))"
   ]
  },
  {
   "cell_type": "markdown",
   "metadata": {},
   "source": [
    "#### 4. How many items in the dictionary?"
   ]
  },
  {
   "cell_type": "code",
   "execution_count": 4,
   "metadata": {},
   "outputs": [
    {
     "data": {
      "text/plain": [
       "3"
      ]
     },
     "execution_count": 4,
     "metadata": {},
     "output_type": "execute_result"
    }
   ],
   "source": [
    "len(fruits)"
   ]
  },
  {
   "cell_type": "markdown",
   "metadata": {},
   "source": [
    "#### 5. Does graphs available in the dictionary?"
   ]
  },
  {
   "cell_type": "code",
   "execution_count": 5,
   "metadata": {},
   "outputs": [
    {
     "name": "stdout",
     "output_type": "stream",
     "text": [
      "No\n"
     ]
    }
   ],
   "source": [
    "if \"grapes\" in fruits:\n",
    "    print(\"yes\")\n",
    "else:\n",
    "    print(\"No\")"
   ]
  },
  {
   "cell_type": "markdown",
   "metadata": {},
   "source": [
    "#### 6. Does pears exists in the dictionary?. If so, return its quantity, otherwise, add 10 pears to dictionary."
   ]
  },
  {
   "cell_type": "code",
   "execution_count": 6,
   "metadata": {},
   "outputs": [
    {
     "name": "stdout",
     "output_type": "stream",
     "text": [
      "{'apples': 20, 'bananas': 50, 'oranges': 100, 'pears': 10}\n"
     ]
    }
   ],
   "source": [
    "if \"pears\" in fruits.keys():\n",
    "    print(fruits.get('pears'))\n",
    "else:\n",
    "    fruits[\"pears\"]=10\n",
    "print(fruits)"
   ]
  },
  {
   "cell_type": "markdown",
   "metadata": {},
   "source": [
    "#### 7. Show all fruit names in ascending order (Iterate using for loop)"
   ]
  },
  {
   "cell_type": "code",
   "execution_count": 7,
   "metadata": {},
   "outputs": [
    {
     "name": "stdout",
     "output_type": "stream",
     "text": [
      "['apples', 'bananas', 'oranges', 'pears']\n",
      "['apples', 'bananas', 'oranges', 'pears']\n",
      "['apples', 'bananas', 'oranges', 'pears']\n",
      "['apples', 'bananas', 'oranges', 'pears']\n"
     ]
    }
   ],
   "source": [
    "for keys in fruits:\n",
    "    print(sorted(fruits.keys()))"
   ]
  },
  {
   "cell_type": "markdown",
   "metadata": {},
   "source": [
    "#### 8. Show all fruits in descending order of quantities"
   ]
  },
  {
   "cell_type": "code",
   "execution_count": 8,
   "metadata": {},
   "outputs": [
    {
     "name": "stdout",
     "output_type": "stream",
     "text": [
      "['pears', 'oranges', 'bananas', 'apples']\n"
     ]
    }
   ],
   "source": [
    "print(sorted(fruits.keys(),reverse=True))"
   ]
  },
  {
   "cell_type": "markdown",
   "metadata": {},
   "source": [
    "#### 9. Remove pears from the dictionary."
   ]
  },
  {
   "cell_type": "code",
   "execution_count": 9,
   "metadata": {},
   "outputs": [
    {
     "name": "stdout",
     "output_type": "stream",
     "text": [
      "{'apples': 20, 'bananas': 50, 'oranges': 100}\n"
     ]
    }
   ],
   "source": [
    "del fruits['pears']\n",
    "print(fruits)"
   ]
  },
  {
   "cell_type": "markdown",
   "metadata": {},
   "source": [
    "#### 10. Develop a function show() that displays fruit name and quantity (Use .format() for pretty printing)"
   ]
  },
  {
   "cell_type": "code",
   "execution_count": 10,
   "metadata": {},
   "outputs": [
    {
     "name": "stdout",
     "output_type": "stream",
     "text": [
      "('apples', 20) ('bananas', 50) ('oranges', 100)\n"
     ]
    }
   ],
   "source": [
    "def show():\n",
    "    print(\"{} {} {}\".format(*fruits.items()))\n",
    "show()"
   ]
  },
  {
   "cell_type": "markdown",
   "metadata": {},
   "source": [
    "#### 11. Develop a function add_fruit(name, quantity) that receives fruit name and quantity as input and increases the quantity of the fruit. Then, display the current inventory by calling show()."
   ]
  },
  {
   "cell_type": "code",
   "execution_count": 11,
   "metadata": {},
   "outputs": [],
   "source": [
    "def add_fruit(fruits,name,quantity):\n",
    "    fruits[name]=fruits.get(name,0)+quantity"
   ]
  },
  {
   "cell_type": "markdown",
   "metadata": {},
   "source": [
    "#### 12. Now, add 40 apples to inventory by calling add_fruit(name, quantity)"
   ]
  },
  {
   "cell_type": "code",
   "execution_count": 12,
   "metadata": {},
   "outputs": [
    {
     "name": "stdout",
     "output_type": "stream",
     "text": [
      "{'apples': 60, 'bananas': 50, 'oranges': 100}\n"
     ]
    }
   ],
   "source": [
    "fruits={\"apples\":20,\"bananas\":50,\"oranges\":100}\n",
    "add_fruit(fruits,'apples',40)\n",
    "print(fruits)"
   ]
  },
  {
   "cell_type": "markdown",
   "metadata": {},
   "source": [
    "#### 13. Now, add 100 bananas to inventory, by calling add_fruit(name, quantity)"
   ]
  },
  {
   "cell_type": "code",
   "execution_count": 13,
   "metadata": {},
   "outputs": [
    {
     "name": "stdout",
     "output_type": "stream",
     "text": [
      "{'apples': 20, 'bananas': 150, 'oranges': 100}\n"
     ]
    }
   ],
   "source": [
    "fruits={\"apples\":20,\"bananas\":50,\"oranges\":100}\n",
    "add_fruit(fruits,\"bananas\",100)\n",
    "print(fruits)"
   ]
  },
  {
   "cell_type": "markdown",
   "metadata": {},
   "source": [
    "#### 14. Now, show the current inventory, by calling show()"
   ]
  },
  {
   "cell_type": "code",
   "execution_count": 14,
   "metadata": {},
   "outputs": [
    {
     "name": "stdout",
     "output_type": "stream",
     "text": [
      "('apples', 20) ('bananas', 150) ('oranges', 100)\n"
     ]
    }
   ],
   "source": [
    "show()"
   ]
  },
  {
   "cell_type": "markdown",
   "metadata": {},
   "source": [
    "#### 15. Write the inventory fruits onto a file. (Use Pickle for file writing and reading)"
   ]
  },
  {
   "cell_type": "code",
   "execution_count": 15,
   "metadata": {},
   "outputs": [
    {
     "name": "stdout",
     "output_type": "stream",
     "text": [
      "{'apple': 300, 'mango': 87, 'banana': 320}\n"
     ]
    }
   ],
   "source": [
    "import pickle\n",
    "new_inventory={\"apple\":300,\"mango\":87,\"banana\":320}\n",
    "# Write the dictionary to the pickle file\n",
    "file = open(\"fruits_inventory.p\", \"wb\")\n",
    "pickle.dump(new_inventory, file)\n",
    "print(new_inventory)"
   ]
  },
  {
   "cell_type": "markdown",
   "metadata": {},
   "source": [
    "#### 16. Now, open Pickle file and display the inventory."
   ]
  },
  {
   "cell_type": "code",
   "execution_count": 16,
   "metadata": {},
   "outputs": [
    {
     "name": "stdout",
     "output_type": "stream",
     "text": [
      "{'apple': 300, 'mango': 87, 'banana': 320}\n"
     ]
    }
   ],
   "source": [
    "file = open(\"fruits_inventory.p\",\"rb\")\n",
    "dict2 = pickle.load(file)\n",
    "file.close()\n",
    "print(new_inventory)"
   ]
  },
  {
   "cell_type": "markdown",
   "metadata": {},
   "source": [
    "#### Question 2. Write a program for Telephone Directory Management\n",
    "#### 1. Create an empty dictionary called customers, where name is a key and contacts is a list of contacts such as phoneno and email ID for each customer.\n",
    "#### 2. Ask user to enter name and his contacts for N customers. Add them to dictionary customers. Stop reading when user types “done”"
   ]
  },
  {
   "cell_type": "code",
   "execution_count": 17,
   "metadata": {},
   "outputs": [
    {
     "name": "stdout",
     "output_type": "stream",
     "text": [
      "Enter the name and number: abc 7867906567 abc@gmail.com\n",
      "Enter the name and number: def 9887765904 def@gmail.com\n",
      "Enter the name and number: ghi 9090907889 ghi@gmail.com\n",
      "Enter the name and number: done\n",
      "\n",
      "Printing Contacts:\n",
      "abc : ['7867906567', 'abc@gmail.com']\n",
      "def : ['9887765904', 'def@gmail.com']\n",
      "ghi : ['9090907889', 'ghi@gmail.com']\n"
     ]
    }
   ],
   "source": [
    "customer = {}\n",
    "while(True):\n",
    "    row = input(\"Enter the name and number: \")\n",
    "    info = row.split()\n",
    "    if(info[0] == \"done\"):\n",
    "        break\n",
    "    name = info[0]\n",
    "    phone = info[1]\n",
    "    email = info[2]\n",
    "    contacts=[phone,email]\n",
    "    customer[name] = contacts\n",
    "print(\"\\nPrinting Contacts:\")\n",
    "for name, phone in customer.items():\n",
    "    print(name, \":\", phone)"
   ]
  },
  {
   "cell_type": "markdown",
   "metadata": {},
   "source": [
    "#### 3.Show the contacts for customer “rex”. If not exists, print message “Contacts not exists..”"
   ]
  },
  {
   "cell_type": "code",
   "execution_count": 18,
   "metadata": {},
   "outputs": [
    {
     "name": "stdout",
     "output_type": "stream",
     "text": [
      "There is no such contact\n"
     ]
    }
   ],
   "source": [
    "if 'rex' in customer:\n",
    "    print(\"rex in present\")\n",
    "else:\n",
    "    print(\"There is no such contact\")"
   ]
  },
  {
   "cell_type": "markdown",
   "metadata": {},
   "source": [
    "#### 4.Add a new customer with name “rex”, phone number 9942002764 and email id yourname@bhc.edu"
   ]
  },
  {
   "cell_type": "code",
   "execution_count": 19,
   "metadata": {},
   "outputs": [],
   "source": [
    "customer['rex']=['9942002764','jonny@bhc.edu']"
   ]
  },
  {
   "cell_type": "markdown",
   "metadata": {},
   "source": [
    "#### 5.Show all customers both name and contacts. (Use items() method, unpack it and print inside for loop)"
   ]
  },
  {
   "cell_type": "code",
   "execution_count": 20,
   "metadata": {},
   "outputs": [
    {
     "name": "stdout",
     "output_type": "stream",
     "text": [
      "abc ['7867906567', 'abc@gmail.com']\n",
      "def ['9887765904', 'def@gmail.com']\n",
      "ghi ['9090907889', 'ghi@gmail.com']\n",
      "rex ['9942002764', 'jonny@bhc.edu']\n"
     ]
    }
   ],
   "source": [
    "for name, contacts in customer.items():\n",
    "    print(name,contacts)"
   ]
  },
  {
   "cell_type": "markdown",
   "metadata": {},
   "source": [
    "#### 6.Show all customer contacts (Iterate using for loop)"
   ]
  },
  {
   "cell_type": "code",
   "execution_count": 21,
   "metadata": {},
   "outputs": [
    {
     "name": "stdout",
     "output_type": "stream",
     "text": [
      "['7867906567', 'abc@gmail.com']\n",
      "['9887765904', 'def@gmail.com']\n",
      "['9090907889', 'ghi@gmail.com']\n",
      "['9942002764', 'jonny@bhc.edu']\n"
     ]
    }
   ],
   "source": [
    "for name in customer:\n",
    "    print(customer[name])"
   ]
  },
  {
   "cell_type": "markdown",
   "metadata": {},
   "source": [
    "#### 7.Show all customer names in alphabetical order"
   ]
  },
  {
   "cell_type": "code",
   "execution_count": 22,
   "metadata": {},
   "outputs": [
    {
     "data": {
      "text/plain": [
       "['abc', 'def', 'ghi', 'rex']"
      ]
     },
     "execution_count": 22,
     "metadata": {},
     "output_type": "execute_result"
    }
   ],
   "source": [
    "sorted(customer.keys())"
   ]
  },
  {
   "cell_type": "markdown",
   "metadata": {},
   "source": [
    "#### 8.How many customers are there in your dictionary?"
   ]
  },
  {
   "cell_type": "code",
   "execution_count": 23,
   "metadata": {},
   "outputs": [
    {
     "data": {
      "text/plain": [
       "4"
      ]
     },
     "execution_count": 23,
     "metadata": {},
     "output_type": "execute_result"
    }
   ],
   "source": [
    "len(customer.items())"
   ]
  },
  {
   "cell_type": "markdown",
   "metadata": {},
   "source": [
    "#### 9.Remove customer “rex” from dictionary customers"
   ]
  },
  {
   "cell_type": "code",
   "execution_count": 24,
   "metadata": {},
   "outputs": [],
   "source": [
    "del customer['rex']"
   ]
  },
  {
   "cell_type": "code",
   "execution_count": 25,
   "metadata": {},
   "outputs": [
    {
     "data": {
      "text/plain": [
       "{'abc': ['7867906567', 'abc@gmail.com'],\n",
       " 'def': ['9887765904', 'def@gmail.com'],\n",
       " 'ghi': ['9090907889', 'ghi@gmail.com']}"
      ]
     },
     "execution_count": 25,
     "metadata": {},
     "output_type": "execute_result"
    }
   ],
   "source": [
    "customer"
   ]
  }
 ],
 "metadata": {
  "kernelspec": {
   "display_name": "Python 3",
   "language": "python",
   "name": "python3"
  },
  "language_info": {
   "codemirror_mode": {
    "name": "ipython",
    "version": 3
   },
   "file_extension": ".py",
   "mimetype": "text/x-python",
   "name": "python",
   "nbconvert_exporter": "python",
   "pygments_lexer": "ipython3",
   "version": "3.8.3"
  }
 },
 "nbformat": 4,
 "nbformat_minor": 4
}
